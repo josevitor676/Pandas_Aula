{
  "cells": [
    {
      "cell_type": "markdown",
      "metadata": {
        "id": "view-in-github",
        "colab_type": "text"
      },
      "source": [
        "<a href=\"https://colab.research.google.com/github/josevitor676/Pandas_Aula/blob/main/Pandas_Aula.ipynb\" target=\"_parent\"><img src=\"https://colab.research.google.com/assets/colab-badge.svg\" alt=\"Open In Colab\"/></a>"
      ]
    },
    {
      "cell_type": "code",
      "execution_count": 1,
      "metadata": {
        "id": "sCjfPFeKhfWg"
      },
      "outputs": [],
      "source": [
        "import pandas as pd"
      ]
    },
    {
      "cell_type": "markdown",
      "metadata": {
        "id": "X760egPMjyUz"
      },
      "source": [
        "####Importando DataFrame(df)"
      ]
    },
    {
      "cell_type": "code",
      "execution_count": 2,
      "metadata": {
        "id": "B7hrcqjgjouM"
      },
      "outputs": [],
      "source": [
        "df = pd.read_csv('perguntas_alunos - Página1.csv')"
      ]
    },
    {
      "cell_type": "code",
      "execution_count": null,
      "metadata": {
        "id": "hKnWhelGkR5s"
      },
      "outputs": [],
      "source": [
        "df.head()"
      ]
    },
    {
      "cell_type": "code",
      "execution_count": 67,
      "metadata": {
        "id": "AXhFna8jlI3d",
        "colab": {
          "base_uri": "https://localhost:8080/"
        },
        "outputId": "0fa67a68-9e83-4ae0-aeec-0baeeb2ca616"
      },
      "outputs": [
        {
          "output_type": "execute_result",
          "data": {
            "text/plain": [
              "Index(['NOME', 'DATA_DE_NASCIMENTO', 'ENDERECO', 'CIDADE', 'ESTADO',\n",
              "       'NOME MAE', 'NOME PAI', 'CASADO', 'FILHOS', 'ESPORTE FAVORITO',\n",
              "       'FRUTA FAVORITA', 'PROFISSAO', 'ALTURA', 'IDADE', 'PESO', 'ANO', 'MES',\n",
              "       'DIA', 'NOME DO DIA'],\n",
              "      dtype='object')"
            ]
          },
          "metadata": {},
          "execution_count": 67
        }
      ],
      "source": [
        "df.columns"
      ]
    },
    {
      "cell_type": "code",
      "source": [
        "df.info()"
      ],
      "metadata": {
        "id": "CVASactsV-Hk"
      },
      "execution_count": null,
      "outputs": []
    },
    {
      "cell_type": "markdown",
      "metadata": {
        "id": "6fmxhCx2lonx"
      },
      "source": [
        "####Adendo"
      ]
    },
    {
      "cell_type": "code",
      "execution_count": null,
      "metadata": {
        "id": "lAZow-ROlqwh"
      },
      "outputs": [],
      "source": [
        "def acrescenta(x):\n",
        "  x += 1\n",
        "  return x"
      ]
    },
    {
      "cell_type": "code",
      "execution_count": null,
      "metadata": {
        "id": "c3MCHUGonLoC"
      },
      "outputs": [],
      "source": [
        "acrescenta(2)"
      ]
    },
    {
      "cell_type": "code",
      "execution_count": null,
      "metadata": {
        "id": "pKpvg9O3n_0V"
      },
      "outputs": [],
      "source": [
        "def soma_dois(x,y):\n",
        "  soma = x + y\n",
        "  return print(f'a soma do numero {x} mais numero {y} é {soma}')"
      ]
    },
    {
      "cell_type": "code",
      "execution_count": null,
      "metadata": {
        "id": "UurRvHRboI7E"
      },
      "outputs": [],
      "source": [
        "soma_dois(4,6)"
      ]
    },
    {
      "cell_type": "code",
      "execution_count": null,
      "metadata": {
        "id": "6erwtn7wo1pr"
      },
      "outputs": [],
      "source": [
        "\n",
        "def lista_quadrado(lista):\n",
        "  for i in lista:\n",
        "    print(i)"
      ]
    },
    {
      "cell_type": "code",
      "execution_count": null,
      "metadata": {
        "colab": {
          "background_save": true
        },
        "id": "L0IsQT5VpLyT"
      },
      "outputs": [],
      "source": [
        "listaNum = [1,2,3,4,5]\n",
        "lista_quadrado(listaNum) "
      ]
    },
    {
      "cell_type": "markdown",
      "source": [
        "#### Feature Data Nascimento"
      ],
      "metadata": {
        "id": "kjTEzN-KOiA6"
      }
    },
    {
      "cell_type": "code",
      "source": [
        "df['Data_de_nascimento'] = pd.to_datetime(df['Data_de_nascimento'])"
      ],
      "metadata": {
        "id": "V4-QxeA6OqtS"
      },
      "execution_count": 5,
      "outputs": []
    },
    {
      "cell_type": "code",
      "source": [
        "df['ano'] = df['Data_de_nascimento'].dt.year"
      ],
      "metadata": {
        "id": "fpozF3dJOsf7"
      },
      "execution_count": 7,
      "outputs": []
    },
    {
      "cell_type": "code",
      "source": [
        "df['mes'] = df['Data_de_nascimento'].dt.month"
      ],
      "metadata": {
        "id": "4KCfNdlPOvIB"
      },
      "execution_count": 8,
      "outputs": []
    },
    {
      "cell_type": "code",
      "source": [
        "df['dia'] = df['Data_de_nascimento'].dt.day"
      ],
      "metadata": {
        "id": "gih4rek0Ov9z"
      },
      "execution_count": 9,
      "outputs": []
    },
    {
      "cell_type": "code",
      "source": [
        "df['nome_do_dia'] = df['Data_de_nascimento'].dt.day_name()"
      ],
      "metadata": {
        "id": "kLRv-4ehOxtT"
      },
      "execution_count": 11,
      "outputs": []
    },
    {
      "cell_type": "code",
      "source": [
        "df['MAE'], df['MAE_SOBRENOME'] = df['nome mae'].split(pat=\" \", n=1, expand=True )"
      ],
      "metadata": {
        "id": "Sf3m6fFKO1kh"
      },
      "execution_count": null,
      "outputs": []
    },
    {
      "cell_type": "code",
      "source": [
        "df['nome_do_dia']"
      ],
      "metadata": {
        "id": "KaAirV7NO2ps"
      },
      "execution_count": null,
      "outputs": []
    },
    {
      "cell_type": "markdown",
      "source": [
        "####Feature String"
      ],
      "metadata": {
        "id": "kjvVMePzVuFx"
      }
    },
    {
      "cell_type": "code",
      "source": [
        "\n",
        "df.replace(to_replace= 'NAN', value = 'NENHUM', inplace = True )\n",
        "  \n"
      ],
      "metadata": {
        "id": "k8KXmWcyVwCT"
      },
      "execution_count": 96,
      "outputs": []
    },
    {
      "cell_type": "markdown",
      "source": [
        "####Feature numericos "
      ],
      "metadata": {
        "id": "PLMxvvSyO3YT"
      }
    },
    {
      "cell_type": "code",
      "source": [
        "df['PESO'] = df['PESO'].apply(lambda x:x.replace(\",\", \".\"))"
      ],
      "metadata": {
        "id": "p6x5ZiQjO6rh"
      },
      "execution_count": 13,
      "outputs": []
    },
    {
      "cell_type": "code",
      "source": [
        "df['altura'] = df['altura'].apply(lambda x:x.replace(\",\", \".\"))"
      ],
      "metadata": {
        "id": "m0Nthn3CO8_h"
      },
      "execution_count": 14,
      "outputs": []
    },
    {
      "cell_type": "code",
      "source": [
        "df['PESO'] = df['PESO'].astype(float)"
      ],
      "metadata": {
        "id": "C5JuDeYWO-sL"
      },
      "execution_count": 15,
      "outputs": []
    },
    {
      "cell_type": "code",
      "source": [
        "df['altura'] = df['altura'].astype(float)"
      ],
      "metadata": {
        "id": "Ev0RAWB9PABJ"
      },
      "execution_count": 16,
      "outputs": []
    },
    {
      "cell_type": "markdown",
      "source": [
        "####Feature Name"
      ],
      "metadata": {
        "id": "874z37-MPApi"
      }
    },
    {
      "cell_type": "code",
      "source": [
        "df.rename(columns = {'Nome':'NOME'}, inplace=True)"
      ],
      "metadata": {
        "id": "UtIAVM_LPFZi"
      },
      "execution_count": 18,
      "outputs": []
    },
    {
      "cell_type": "code",
      "source": [
        "def colunaMaiuscula(coluna, nome_maiusculo):\n",
        "  df.rename(columns = {coluna: nome_maiusculo}, inplace=True)"
      ],
      "metadata": {
        "id": "B8ksuRJ6QiJa"
      },
      "execution_count": 21,
      "outputs": []
    },
    {
      "cell_type": "code",
      "source": [
        "colunaMaiuscula('Data_de_nascimento', 'DATA_DE_NASCIMENTO')"
      ],
      "metadata": {
        "id": "SGS8kZouQ1cr"
      },
      "execution_count": 22,
      "outputs": []
    },
    {
      "cell_type": "code",
      "source": [
        "colunaMaiuscula('endereco', 'ENDERECO')"
      ],
      "metadata": {
        "id": "3Xsn6Wo4REWq"
      },
      "execution_count": 24,
      "outputs": []
    },
    {
      "cell_type": "code",
      "source": [
        "colunaMaiuscula('cidade', 'CIDADE')"
      ],
      "metadata": {
        "id": "aqPCwd7TSBT6"
      },
      "execution_count": 26,
      "outputs": []
    },
    {
      "cell_type": "code",
      "source": [
        "colunaMaiuscula('estado', 'ESTADO')"
      ],
      "metadata": {
        "id": "aM_Ox1J2TSEF"
      },
      "execution_count": 28,
      "outputs": []
    },
    {
      "cell_type": "code",
      "source": [
        "colunaMaiuscula('nome mae', 'NOME MAE')"
      ],
      "metadata": {
        "id": "oUpSwahRTXZh"
      },
      "execution_count": 29,
      "outputs": []
    },
    {
      "cell_type": "code",
      "source": [
        "colunaMaiuscula('nome pai', 'NOME PAI')"
      ],
      "metadata": {
        "id": "9tgzvugiTdVC"
      },
      "execution_count": 30,
      "outputs": []
    },
    {
      "cell_type": "code",
      "source": [
        "colunaMaiuscula('casado', 'CASADO')"
      ],
      "metadata": {
        "id": "rH3Fdi1qTjC5"
      },
      "execution_count": 32,
      "outputs": []
    },
    {
      "cell_type": "code",
      "source": [
        "colunaMaiuscula('filhos', 'FILHOS')"
      ],
      "metadata": {
        "id": "J4zq9rHJTm67"
      },
      "execution_count": 34,
      "outputs": []
    },
    {
      "cell_type": "code",
      "source": [
        "colunaMaiuscula('esporte_favorito', 'ESPORTE FAVORITO')"
      ],
      "metadata": {
        "id": "DeHWrIVVTsF6"
      },
      "execution_count": 36,
      "outputs": []
    },
    {
      "cell_type": "code",
      "source": [
        "colunaMaiuscula('fruta favorita', 'FRUTA FAVORITA')"
      ],
      "metadata": {
        "id": "s-ARQw0zT3Er"
      },
      "execution_count": 38,
      "outputs": []
    },
    {
      "cell_type": "code",
      "source": [
        "colunaMaiuscula('profissao', 'PROFISSAO')"
      ],
      "metadata": {
        "id": "TgYXTJKVT-Nx"
      },
      "execution_count": 39,
      "outputs": []
    },
    {
      "cell_type": "code",
      "source": [
        "colunaMaiuscula('altura', 'ALTURA')"
      ],
      "metadata": {
        "id": "pioX1PRFUFnz"
      },
      "execution_count": 40,
      "outputs": []
    },
    {
      "cell_type": "code",
      "source": [
        "colunaMaiuscula('ano', 'ANO')"
      ],
      "metadata": {
        "id": "OWxXn55XUPhD"
      },
      "execution_count": 42,
      "outputs": []
    },
    {
      "cell_type": "code",
      "source": [
        "colunaMaiuscula('mes', 'MES')"
      ],
      "metadata": {
        "id": "AfciLEzzUU1j"
      },
      "execution_count": 43,
      "outputs": []
    },
    {
      "cell_type": "code",
      "source": [
        "colunaMaiuscula('dia', 'DIA')"
      ],
      "metadata": {
        "id": "jDYIKFG6UY-7"
      },
      "execution_count": 44,
      "outputs": []
    },
    {
      "cell_type": "code",
      "source": [
        "colunaMaiuscula('nome_do_dia', 'NOME DO DIA')"
      ],
      "metadata": {
        "id": "kHtmyn5CUc7V"
      },
      "execution_count": 45,
      "outputs": []
    },
    {
      "cell_type": "markdown",
      "source": [
        "####Função para deixar tudo maiusculo"
      ],
      "metadata": {
        "id": "JeVrRGwkPF-8"
      }
    },
    {
      "cell_type": "code",
      "source": [
        "def tudo_maiusculo(a):\n",
        "  for idx, string in enumerate(a):\n",
        "    a[idx] = string.upper()\n",
        "  return a"
      ],
      "metadata": {
        "id": "6W6gjBGKPOHr"
      },
      "execution_count": 48,
      "outputs": []
    },
    {
      "cell_type": "code",
      "source": [
        "tudo_maiusculo(df['ENDERECO'])"
      ],
      "metadata": {
        "id": "0fqDHEa-PQb6"
      },
      "execution_count": null,
      "outputs": []
    },
    {
      "cell_type": "code",
      "source": [
        "tudo_maiusculo(df['NOME'])"
      ],
      "metadata": {
        "id": "y5uraIILUw5J"
      },
      "execution_count": null,
      "outputs": []
    },
    {
      "cell_type": "code",
      "source": [
        "tudo_maiusculo(df['CIDADE'])"
      ],
      "metadata": {
        "id": "uiU8UHKFU4vx"
      },
      "execution_count": null,
      "outputs": []
    },
    {
      "cell_type": "code",
      "source": [
        "tudo_maiusculo(df['ESTADO'])"
      ],
      "metadata": {
        "id": "b5rSZ67oU87Z"
      },
      "execution_count": null,
      "outputs": []
    },
    {
      "cell_type": "code",
      "source": [
        "tudo_maiusculo(df['NOME MAE'])"
      ],
      "metadata": {
        "id": "HMWR8VZlVA8K"
      },
      "execution_count": null,
      "outputs": []
    },
    {
      "cell_type": "code",
      "source": [
        "tudo_maiusculo(df['NOME PAI'])"
      ],
      "metadata": {
        "id": "94XejBdSVGY1"
      },
      "execution_count": null,
      "outputs": []
    },
    {
      "cell_type": "code",
      "source": [
        "tudo_maiusculo(df['CASADO'])"
      ],
      "metadata": {
        "id": "FvBNjNKSVJsq"
      },
      "execution_count": null,
      "outputs": []
    },
    {
      "cell_type": "code",
      "source": [
        "tudo_maiusculo(df['FILHOS'])"
      ],
      "metadata": {
        "id": "H-EaYUu0VMjz"
      },
      "execution_count": null,
      "outputs": []
    },
    {
      "cell_type": "code",
      "source": [
        "tudo_maiusculo(df['FRUTA FAVORITA'])"
      ],
      "metadata": {
        "id": "CQK5CCakVWkl"
      },
      "execution_count": null,
      "outputs": []
    },
    {
      "cell_type": "code",
      "source": [
        "tudo_maiusculo(df['PROFISSAO'])"
      ],
      "metadata": {
        "id": "TgJ5KEF_VbSq"
      },
      "execution_count": null,
      "outputs": []
    },
    {
      "cell_type": "code",
      "source": [
        "tudo_maiusculo(df['NOME DO DIA'])"
      ],
      "metadata": {
        "id": "8rbOvBuFVfDM"
      },
      "execution_count": null,
      "outputs": []
    },
    {
      "cell_type": "code",
      "source": [
        "tudo_maiusculo(df['ESPORTE FAVORITO'])"
      ],
      "metadata": {
        "id": "VQPin5BMa9Pr"
      },
      "execution_count": null,
      "outputs": []
    },
    {
      "cell_type": "code",
      "source": [
        "for i in df.iterrows():\n",
        "  print(i[1][0])"
      ],
      "metadata": {
        "id": "DoDCH3KqPSsS"
      },
      "execution_count": null,
      "outputs": []
    },
    {
      "cell_type": "code",
      "source": [
        "df.head()"
      ],
      "metadata": {
        "id": "IvprMo18PT-L"
      },
      "execution_count": null,
      "outputs": []
    },
    {
      "cell_type": "code",
      "source": [
        "df.to_csv('df_tratado_final.csv')"
      ],
      "metadata": {
        "id": "LcNBfz3wbbvD"
      },
      "execution_count": 98,
      "outputs": []
    }
  ],
  "metadata": {
    "colab": {
      "provenance": [],
      "authorship_tag": "ABX9TyOkPWoQjpeI1l1Ps9/yRGLU",
      "include_colab_link": true
    },
    "kernelspec": {
      "display_name": "Python 3",
      "name": "python3"
    },
    "language_info": {
      "name": "python"
    }
  },
  "nbformat": 4,
  "nbformat_minor": 0
}